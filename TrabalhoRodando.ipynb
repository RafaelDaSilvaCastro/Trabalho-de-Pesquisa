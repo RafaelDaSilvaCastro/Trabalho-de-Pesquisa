{
  "nbformat": 4,
  "nbformat_minor": 0,
  "metadata": {
    "colab": {
      "provenance": []
    },
    "kernelspec": {
      "name": "python3",
      "display_name": "Python 3"
    },
    "language_info": {
      "name": "python"
    }
  },
  "cells": [
    {
      "cell_type": "code",
      "execution_count": null,
      "metadata": {
        "id": "ZDbr2oXMisWI"
      },
      "outputs": [],
      "source": [
        "!pip install pyspark==3.4.2 delta-spark==2.4.0\n"
      ]
    },
    {
      "cell_type": "code",
      "source": [
        "from pyspark.sql import SparkSession\n",
        "from pyspark.sql.types import StructType, StructField, StringType, FloatType\n",
        "\n",
        "from delta import *"
      ],
      "metadata": {
        "id": "-0sYs9OIjO50"
      },
      "execution_count": null,
      "outputs": []
    },
    {
      "cell_type": "code",
      "source": [
        "spark = (\n",
        "    SparkSession\n",
        "    .builder\n",
        "    .master(\"local[*]\")\n",
        "    .config(\"spark.jars.packages\", \"io.delta:delta-core_2.12:2.4.0\")\n",
        "    .config(\"spark.sql.extensions\", \"io.delta.sql.DeltaSparkSessionExtension\")\n",
        "    .config(\"spark.sql.catalog.spark_catalog\", \"org.apache.spark.sql.delta.catalog.DeltaCatalog\")\n",
        "    .getOrCreate()\n",
        ")"
      ],
      "metadata": {
        "id": "Ik2NN3lqjRjz"
      },
      "execution_count": null,
      "outputs": []
    },
    {
      "cell_type": "code",
      "source": [
        "data = [\n",
        "    (\"1\", \"Fusca\",\"1990\",\"Quebrou\",   100.00),\n",
        "    (\"2\", \"Uno\",\"2000\",\"Quase quebrou\", 1500.00),\n",
        "    (\"3\", \"Celta\",\"2012\",\"Funcionando\",   20500.00)\n",
        "]\n",
        "\n",
        "schema = (\n",
        "    StructType([\n",
        "        StructField(\"ID_CARRO\",     StringType(),True),\n",
        "        StructField(\"NOME_CARRO\",   StringType(),True),\n",
        "        StructField(\"ANO\",             StringType(),True),\n",
        "        StructField(\"STATUS\",         StringType(),True),\n",
        "        StructField(\"VALOR\", FloatType(), True)\n",
        "    ])\n",
        ")\n",
        "\n",
        "df = spark.createDataFrame(data=data,schema=schema)\n",
        "\n",
        "df.show(truncate=False)"
      ],
      "metadata": {
        "colab": {
          "base_uri": "https://localhost:8080/"
        },
        "id": "M0aX02_sjXpj",
        "outputId": "e2121730-6bfe-4201-e7fa-abff788e6277"
      },
      "execution_count": null,
      "outputs": [
        {
          "output_type": "stream",
          "name": "stdout",
          "text": [
            "+--------+----------+----+-------------+-------+\n",
            "|ID_CARRO|NOME_CARRO|ANO |STATUS       |VALOR  |\n",
            "+--------+----------+----+-------------+-------+\n",
            "|1       |Fusca     |1990|Quebrou      |100.0  |\n",
            "|2       |Uno       |2000|Quase quebrou|1500.0 |\n",
            "|3       |Celta     |2012|Funcionando  |20500.0|\n",
            "+--------+----------+----+-------------+-------+\n",
            "\n"
          ]
        }
      ]
    },
    {
      "cell_type": "code",
      "source": [
        "(\n",
        "    df\n",
        "    .write\n",
        "    .format(\"delta\")\n",
        "    .mode('overwrite')\n",
        "    .save(\"./RAW/CARRO\")\n",
        ")"
      ],
      "metadata": {
        "id": "wlmhoQuKje4c"
      },
      "execution_count": null,
      "outputs": []
    },
    {
      "cell_type": "code",
      "source": [
        "new_data = [\n",
        "    (\"1\", \"Fusca\",\"1990\",\"Quebrou\",   150.00),\n",
        "    (\"2\", \"Uno\",\"2000\",\"Quase quebrou\", 2500.00),\n",
        "    (\"4\", \"Carrao\",\"2012\",\"Funcionando\",   30000.00)\n",
        "]\n",
        "\n",
        "df_new = spark.createDataFrame(data=new_data, schema=schema)\n",
        "\n",
        "df_new.show()"
      ],
      "metadata": {
        "colab": {
          "base_uri": "https://localhost:8080/"
        },
        "id": "CADrQ5H5jnvd",
        "outputId": "99508f6c-0500-4847-88a6-1ca701a36e6f"
      },
      "execution_count": null,
      "outputs": [
        {
          "output_type": "stream",
          "name": "stdout",
          "text": [
            "+--------+----------+----+-------------+-------+\n",
            "|ID_CARRO|NOME_CARRO| ANO|       STATUS|  VALOR|\n",
            "+--------+----------+----+-------------+-------+\n",
            "|       1|     Fusca|1990|      Quebrou|  150.0|\n",
            "|       2|       Uno|2000|Quase quebrou| 2500.0|\n",
            "|       4|    Carrao|2012|  Funcionando|30000.0|\n",
            "+--------+----------+----+-------------+-------+\n",
            "\n"
          ]
        }
      ]
    },
    {
      "cell_type": "code",
      "source": [
        "deltaTable = DeltaTable.forPath(spark, \"./RAW/CARRO\")\n",
        "\n",
        "(\n",
        "    deltaTable.alias(\"dados_atuais\")\n",
        "    .merge(\n",
        "        df_new.alias(\"novos_dados\"),\n",
        "        \"dados_atuais.ID_CARRO = novos_dados.ID_CARRO\"\n",
        "    )\n",
        "    .whenMatchedUpdateAll()\n",
        "    .whenNotMatchedInsertAll()\n",
        "    .execute()\n",
        ")"
      ],
      "metadata": {
        "id": "egyRQmykjr8E"
      },
      "execution_count": null,
      "outputs": []
    },
    {
      "cell_type": "code",
      "source": [
        "deltaTable.delete(\"VALOR < 200.00\")"
      ],
      "metadata": {
        "id": "w4sBSp2bj5Ac"
      },
      "execution_count": null,
      "outputs": []
    },
    {
      "cell_type": "code",
      "source": [
        "(\n",
        "    spark\n",
        "    .read\n",
        "    .format('delta')\n",
        "    .load('./RAW/CARRO')\n",
        "    .show()\n",
        ")"
      ],
      "metadata": {
        "colab": {
          "base_uri": "https://localhost:8080/"
        },
        "id": "X8obIjEgkFN0",
        "outputId": "185822d1-8b27-4fd4-af23-5439bf57f76c"
      },
      "execution_count": null,
      "outputs": [
        {
          "output_type": "stream",
          "name": "stdout",
          "text": [
            "+--------+----------+----+-------------+-------+\n",
            "|ID_CARRO|NOME_CARRO| ANO|       STATUS|  VALOR|\n",
            "+--------+----------+----+-------------+-------+\n",
            "|       2|       Uno|2000|Quase quebrou| 2500.0|\n",
            "|       3|     Celta|2012|  Funcionando|20500.0|\n",
            "|       4|    Carrao|2012|  Funcionando|30000.0|\n",
            "+--------+----------+----+-------------+-------+\n",
            "\n"
          ]
        }
      ]
    },
    {
      "cell_type": "code",
      "source": [
        "#Para Arquivos CSV"
      ],
      "metadata": {
        "id": "GJVq58a5ocGD"
      },
      "execution_count": null,
      "outputs": []
    },
    {
      "cell_type": "code",
      "source": [
        "# Carregar dados CSV\n",
        "df = spark.read.format(\"csv\").option(\"header\", True).load(\"guns.csv\")"
      ],
      "metadata": {
        "id": "CfcwsBeroB67"
      },
      "execution_count": null,
      "outputs": []
    },
    {
      "cell_type": "code",
      "source": [
        "df.show()"
      ],
      "metadata": {
        "colab": {
          "base_uri": "https://localhost:8080/"
        },
        "id": "Kvv9aj6UrA_K",
        "outputId": "627d14fe-8f7e-44b5-bcb8-da1145d78b09"
      },
      "execution_count": null,
      "outputs": [
        {
          "output_type": "stream",
          "name": "stdout",
          "text": [
            "+-----------------+-------------+--------------+--------+-------+---------+-----------+\n",
            "|         gun_name|gun_archetype|        Source|Element |gun_RoF|   Rarity|weapon_type|\n",
            "+-----------------+-------------+--------------+--------+-------+---------+-----------+\n",
            "|     Loud Lullaby|   Aggressive|          Moon| Kinetic|    120|Legendary|hand_cannon|\n",
            "|        Pribina-D|   Aggressive|      Gunsmith| Kinetic|    120|Legendary|hand_cannon|\n",
            "|    True Prophecy|   Aggressive|         World| Kinetic|    120|Legendary|hand_cannon|\n",
            "|   Igneous Hammer|   Aggressive|        Trials|   Solar|    120|Legendary|hand_cannon|\n",
            "|    Bottom Dollar|   Aggressive|        Gambit|    Void|    120|Legendary|hand_cannon|\n",
            "|  The Steady Hand|   Aggressive|BL Iron Banner| Kinetic|    120|Legendary|hand_cannon|\n",
            "| Crimil's Dagger |   Aggressive|   Iron Banner| Kinetic|    120|Legendary|hand_cannon|\n",
            "|     Duke Mk. 44 |   Aggressive|         World| Kinetic|    120|Legendary|hand_cannon|\n",
            "|       Thin Line |   Aggressive| Tangled Shore|    Void|    120|Legendary|hand_cannon|\n",
            "|     Warden's Law|  Aggressive |        Strike| Kinetic|    120|Legendary|hand_cannon|\n",
            "|  Ancient Gospel |     Adaptive|          Raid|   Solar|    140|Legendary|hand_cannon|\n",
            "|       Ten Paces |     Adaptive|         World| Kinetic|    140|Legendary|hand_cannon|\n",
            "|  Kindled Orchid |     Adaptive|      BA Forge|    Void|    140|Legendary|hand_cannon|\n",
            "|Nation of Beasts |     Adaptive|          Raid|     Arc|    140|Legendary|hand_cannon|\n",
            "|      Fatebringer|     Adaptive|          Raid| Kinetic|    140|Legendary|hand_cannon|\n",
            "| Finite Impactor |     Adaptive|   Iron Banner|     Arc|    140|Legendary|hand_cannon|\n",
            "|      Palindrome |     Adaptive|       Strikes|    Void|    140|Legendary|hand_cannon|\n",
            "|       Austringer|     Adaptive|     Menagerie| Kinetic|    140|Legendary|hand_cannon|\n",
            "|   Better Devils |     Adaptive|      Crucible| Kinetic|    140|Legendary|hand_cannon|\n",
            "|The Old Fashioned|     Adaptive|         World| Kinetic|    140|Legendary|hand_cannon|\n",
            "+-----------------+-------------+--------------+--------+-------+---------+-----------+\n",
            "only showing top 20 rows\n",
            "\n"
          ]
        }
      ]
    },
    {
      "cell_type": "code",
      "source": [
        "(\n",
        "    df\n",
        "    .write\n",
        "    .format(\"delta\") \\\n",
        "    .mode('overwrite') \\\n",
        "    .option(\"delta.columnMapping.mode\",\"name\") \\\n",
        "    .option(\"mapColumnNames\", \"true\") \\\n",
        "    .save(\"./RAW/DESTINY\")\n",
        ")\n"
      ],
      "metadata": {
        "id": "4RNN4aCvoIYT"
      },
      "execution_count": null,
      "outputs": []
    },
    {
      "cell_type": "code",
      "source": [
        "(\n",
        "    spark\n",
        "    .read\n",
        "    .format('delta')\n",
        "    .load('./RAW/DESTINY')\n",
        "    .show()\n",
        ")"
      ],
      "metadata": {
        "id": "siRzL_9Zr2kU"
      },
      "execution_count": null,
      "outputs": []
    },
    {
      "cell_type": "code",
      "source": [
        "new_data = [\n",
        "    (\"novo\"        , \"Teste\", \"Lua\",  \"Kinetic\", \"120\", \"Legendary\", \"hand_cannon\"),\n",
        "    (\"21% Delirium\", \"AAAAA\", \"Moon\", \"Kinetic\", \"120\", \"Legendary\", \"hand_cannon\")\n",
        "]\n",
        "\n",
        "schema = (\n",
        "    StructType([\n",
        "        StructField(\"gun_name\",     StringType(),True),\n",
        "        StructField(\"gun_archetype\",   StringType(),True),\n",
        "        StructField(\"Source\",             StringType(),True),\n",
        "        StructField(\"Element \",         StringType(),True),\n",
        "        StructField(\"gun_RoF\",         StringType(),True),\n",
        "        StructField(\"Rarity\",         StringType(),True),\n",
        "        StructField(\"weapon_type\", StringType(), True)\n",
        "    ])\n",
        ")\n",
        "\n",
        "df_new = spark.createDataFrame(data=new_data, schema=schema)\n",
        "\n",
        "deltaTable = DeltaTable.forPath(spark, \"./RAW/DESTINY\")\n",
        "\n",
        "(\n",
        "    deltaTable.alias(\"dados_atuais\")\n",
        "    .merge(\n",
        "        df_new.alias(\"novos_dados\"),\n",
        "        \"dados_atuais.gun_name = novos_dados.gun_name\"\n",
        "    )\n",
        "    .whenMatchedUpdateAll()\n",
        "    .whenNotMatchedInsertAll()\n",
        "    .execute()\n",
        ")"
      ],
      "metadata": {
        "id": "6OyDmvfmtNrz"
      },
      "execution_count": null,
      "outputs": []
    },
    {
      "cell_type": "code",
      "source": [
        "(\n",
        "    spark\n",
        "    .read\n",
        "    .format('delta')\n",
        "    .load('./RAW/DESTINY')\n",
        "    .show()\n",
        ")"
      ],
      "metadata": {
        "colab": {
          "base_uri": "https://localhost:8080/"
        },
        "id": "yFwWgmSOtWsL",
        "outputId": "18cb4399-e97d-44db-e249-fe963fda7508"
      },
      "execution_count": null,
      "outputs": [
        {
          "output_type": "stream",
          "name": "stdout",
          "text": [
            "+------------------+--------------+----------------+--------+-------+---------+---------------+\n",
            "|          gun_name| gun_archetype|          Source|Element |gun_RoF|   Rarity|    weapon_type|\n",
            "+------------------+--------------+----------------+--------+-------+---------+---------------+\n",
            "|      21% Delirium|         AAAAA|            Moon| Kinetic|    120|Legendary|    hand_cannon|\n",
            "|   A Fine Memorial|      Adaptive|    Moon Essence|     Arc|    450|Legendary|    machine_gun|\n",
            "|  Abide the Return|      Adaptive|           World|   Solar|      0|Legendary|          sword|\n",
            "|Accrued Redemption|     Precision|        GoS Raid| Kinetic|    667|Legendary|            bow|\n",
            "|     Ace of Spades|      Adaptive|           Quest| Kinetic|    140|   Exotic|    hand_cannon|\n",
            "|       Adhortative|      Adaptive|   Vex Offensive|   Solar|    390|Legendary|    pulse_rifle|\n",
            "|            Adored|      Adaptive|           Quest|     Arc|     90|Legendary|         sniper|\n",
            "|     Age-Old Bond |   High Impact|       Last Wish|    Void|    360|Legendary|     auto_rifle|\n",
            "|   Ancient Gospel |      Adaptive|            Raid|   Solar|    140|Legendary|    hand_cannon|\n",
            "|  Anonymous Autumn|   Lightweight|        Crucible|   Solar|    360|Legendary|        sidearm|\n",
            "|         Antiope-D|     Precision|        Gunsmith| Kinetic|    600|Legendary|            smg|\n",
            "|     Apex Predator|      Adaptive|       Last Wish|   Solar|     20|Legendary|rocket_launcher|\n",
            "|          Apostate|    Rapid-Fire|Altars of Sorrow|     Arc|    139|Legendary|         sniper|\n",
            "|          Arbalest|Exotic Kinetic|           World| Kinetic|    533|   Exotic|            lfr|\n",
            "|        Arc Logic |      Adaptive|    Moon Essence|     Arc|    600|Legendary|     auto_rifle|\n",
            "|  Archon's Thunder|   High-Impact|     Iron Banner|   Solar|    360|Legendary|    machine_gun|\n",
            "|   Arsenic Bite-4b|   Lightweight|           World|     Arc|    600|Legendary|            bow|\n",
            "|       Artic Haze |    Rapid Fire|          Europa|   Solar|    720|Legendary|     auto_rifle|\n",
            "|    Astral Horizon|    Aggressive|          Trials| Kinetic|     55|Legendary|        shotgun|\n",
            "|        Austringer|      Adaptive|       Menagerie| Kinetic|    140|Legendary|    hand_cannon|\n",
            "+------------------+--------------+----------------+--------+-------+---------+---------------+\n",
            "only showing top 20 rows\n",
            "\n"
          ]
        }
      ]
    },
    {
      "cell_type": "code",
      "source": [
        "deltaTable.delete(\"gun_archetype = 'AAAAA'\")"
      ],
      "metadata": {
        "id": "ywcSaBp4tXPT"
      },
      "execution_count": null,
      "outputs": []
    },
    {
      "cell_type": "code",
      "source": [
        "(\n",
        "    spark\n",
        "    .read\n",
        "    .format('delta')\n",
        "    .load('./RAW/DESTINY')\n",
        "    .show()\n",
        ")"
      ],
      "metadata": {
        "colab": {
          "base_uri": "https://localhost:8080/"
        },
        "id": "bhMJmc8otZHL",
        "outputId": "7b20b39b-f096-4eac-e375-75019a3c725f"
      },
      "execution_count": null,
      "outputs": [
        {
          "output_type": "stream",
          "name": "stdout",
          "text": [
            "+------------------+--------------+----------------+--------+-------+---------+---------------+\n",
            "|          gun_name| gun_archetype|          Source|Element |gun_RoF|   Rarity|    weapon_type|\n",
            "+------------------+--------------+----------------+--------+-------+---------+---------------+\n",
            "|   A Fine Memorial|      Adaptive|    Moon Essence|     Arc|    450|Legendary|    machine_gun|\n",
            "|  Abide the Return|      Adaptive|           World|   Solar|      0|Legendary|          sword|\n",
            "|Accrued Redemption|     Precision|        GoS Raid| Kinetic|    667|Legendary|            bow|\n",
            "|     Ace of Spades|      Adaptive|           Quest| Kinetic|    140|   Exotic|    hand_cannon|\n",
            "|       Adhortative|      Adaptive|   Vex Offensive|   Solar|    390|Legendary|    pulse_rifle|\n",
            "|            Adored|      Adaptive|           Quest|     Arc|     90|Legendary|         sniper|\n",
            "|     Age-Old Bond |   High Impact|       Last Wish|    Void|    360|Legendary|     auto_rifle|\n",
            "|   Ancient Gospel |      Adaptive|            Raid|   Solar|    140|Legendary|    hand_cannon|\n",
            "|  Anonymous Autumn|   Lightweight|        Crucible|   Solar|    360|Legendary|        sidearm|\n",
            "|         Antiope-D|     Precision|        Gunsmith| Kinetic|    600|Legendary|            smg|\n",
            "|     Apex Predator|      Adaptive|       Last Wish|   Solar|     20|Legendary|rocket_launcher|\n",
            "|          Apostate|    Rapid-Fire|Altars of Sorrow|     Arc|    139|Legendary|         sniper|\n",
            "|          Arbalest|Exotic Kinetic|           World| Kinetic|    533|   Exotic|            lfr|\n",
            "|        Arc Logic |      Adaptive|    Moon Essence|     Arc|    600|Legendary|     auto_rifle|\n",
            "|  Archon's Thunder|   High-Impact|     Iron Banner|   Solar|    360|Legendary|    machine_gun|\n",
            "|   Arsenic Bite-4b|   Lightweight|           World|     Arc|    600|Legendary|            bow|\n",
            "|       Artic Haze |    Rapid Fire|          Europa|   Solar|    720|Legendary|     auto_rifle|\n",
            "|    Astral Horizon|    Aggressive|          Trials| Kinetic|     55|Legendary|        shotgun|\n",
            "|        Austringer|      Adaptive|       Menagerie| Kinetic|    140|Legendary|    hand_cannon|\n",
            "|         Avalanche|      Adaptive|     The Dawning|   Solar|    450|Legendary|    machine_gun|\n",
            "+------------------+--------------+----------------+--------+-------+---------+---------------+\n",
            "only showing top 20 rows\n",
            "\n"
          ]
        }
      ]
    }
  ]
}